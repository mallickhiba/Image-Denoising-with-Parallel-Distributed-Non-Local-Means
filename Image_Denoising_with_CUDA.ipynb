{
  "nbformat": 4,
  "nbformat_minor": 0,
  "metadata": {
    "colab": {
      "provenance": [],
      "gpuType": "T4",
      "include_colab_link": true
    },
    "kernelspec": {
      "name": "python3",
      "display_name": "Python 3"
    },
    "language_info": {
      "name": "python"
    },
    "accelerator": "GPU"
  },
  "cells": [
    {
      "cell_type": "markdown",
      "metadata": {
        "id": "view-in-github",
        "colab_type": "text"
      },
      "source": [
        "<a href=\"https://colab.research.google.com/github/mallickhiba/Image-Denoising-with-Parallel-Distributed-Non-Local-Means/blob/main/Image_Denoising_with_CUDA.ipynb\" target=\"_parent\"><img src=\"https://colab.research.google.com/assets/colab-badge.svg\" alt=\"Open In Colab\"/></a>"
      ]
    },
    {
      "cell_type": "markdown",
      "source": [
        "# CUDA Set Up"
      ],
      "metadata": {
        "id": "DRVM4rmx_14j"
      }
    },
    {
      "cell_type": "code",
      "source": [
        "!nvidia-smi"
      ],
      "metadata": {
        "colab": {
          "base_uri": "https://localhost:8080/"
        },
        "id": "BuGiFmFZ03oc",
        "outputId": "5ed0ddda-5b30-4fa8-b651-b25fdc90b504"
      },
      "execution_count": 1,
      "outputs": [
        {
          "output_type": "stream",
          "name": "stdout",
          "text": [
            "/bin/bash: line 1: nvidia-smi: command not found\n"
          ]
        }
      ]
    },
    {
      "cell_type": "code",
      "source": [
        "!pip install git+https://github.com/andreinechaev/nvcc4jupyter.git"
      ],
      "metadata": {
        "colab": {
          "base_uri": "https://localhost:8080/"
        },
        "id": "a7WGaUa41DYr",
        "outputId": "e45416de-3f97-4d93-beee-323a094cb725"
      },
      "execution_count": 2,
      "outputs": [
        {
          "output_type": "stream",
          "name": "stdout",
          "text": [
            "Collecting git+https://github.com/andreinechaev/nvcc4jupyter.git\n",
            "  Cloning https://github.com/andreinechaev/nvcc4jupyter.git to /tmp/pip-req-build-rvf98t3l\n",
            "  Running command git clone --filter=blob:none --quiet https://github.com/andreinechaev/nvcc4jupyter.git /tmp/pip-req-build-rvf98t3l\n",
            "  Resolved https://github.com/andreinechaev/nvcc4jupyter.git to commit 326b0a57a80c6d0b4bad25ca7adf8138419ef1cb\n",
            "  Installing build dependencies ... \u001b[?25l\u001b[?25hdone\n",
            "  Getting requirements to build wheel ... \u001b[?25l\u001b[?25hdone\n",
            "  Preparing metadata (pyproject.toml) ... \u001b[?25l\u001b[?25hdone\n",
            "Building wheels for collected packages: nvcc4jupyter\n",
            "  Building wheel for nvcc4jupyter (pyproject.toml) ... \u001b[?25l\u001b[?25hdone\n",
            "  Created wheel for nvcc4jupyter: filename=nvcc4jupyter-1.2.1-py3-none-any.whl size=10741 sha256=1c43b610d84440f376c57bb0b3d20f87e2433fdb6f06eb98d5fd7c81c461a971\n",
            "  Stored in directory: /tmp/pip-ephem-wheel-cache-ra06wszh/wheels/a8/b9/18/23f8ef71ceb0f63297dd1903aedd067e6243a68ea756d6feea\n",
            "Successfully built nvcc4jupyter\n",
            "Installing collected packages: nvcc4jupyter\n",
            "Successfully installed nvcc4jupyter-1.2.1\n"
          ]
        }
      ]
    },
    {
      "cell_type": "code",
      "source": [
        "%load_ext nvcc4jupyter"
      ],
      "metadata": {
        "colab": {
          "base_uri": "https://localhost:8080/"
        },
        "id": "HkpDZVjZ1bS0",
        "outputId": "9b200865-225e-41c5-f35a-ad7cae39027b"
      },
      "execution_count": 3,
      "outputs": [
        {
          "output_type": "stream",
          "name": "stdout",
          "text": [
            "Detected platform \"Colab\". Running its setup...\n",
            "Source files will be saved in \"/tmp/tmpgamlugrw\".\n"
          ]
        }
      ]
    },
    {
      "cell_type": "code",
      "source": [
        "%%cuda\n",
        "#include <stdio.h>\n",
        "\n",
        "__global__ void hello(){\n",
        "    printf(\"Hello from block: %u, thread: %u\\n\", blockIdx.x, threadIdx.x);\n",
        "}\n",
        "\n",
        "int main(){\n",
        "    hello<<<2, 2>>>();\n",
        "    cudaDeviceSynchronize();\n",
        "}"
      ],
      "metadata": {
        "colab": {
          "base_uri": "https://localhost:8080/"
        },
        "id": "RF1cAmjq11RO",
        "outputId": "99c4b4c7-5f2c-4556-95ee-8754691b25c1"
      },
      "execution_count": 4,
      "outputs": [
        {
          "output_type": "stream",
          "name": "stdout",
          "text": [
            "\n"
          ]
        }
      ]
    },
    {
      "cell_type": "code",
      "source": [
        "%%cuda\n",
        "#include <stdio.h>\n",
        "#include <iostream>\n",
        "\n",
        "int main()\n",
        "{\n",
        "    std::cout << \"Welcome to CUDA\\n\";\n",
        "    return 0;\n",
        "}"
      ],
      "metadata": {
        "colab": {
          "base_uri": "https://localhost:8080/"
        },
        "id": "x1lPLNnG18pD",
        "outputId": "e912e0e1-38cf-410d-8485-c39e1e8af757"
      },
      "execution_count": 5,
      "outputs": [
        {
          "output_type": "stream",
          "name": "stdout",
          "text": [
            "Welcome to CUDA\n",
            "\n"
          ]
        }
      ]
    },
    {
      "cell_type": "markdown",
      "source": [
        "# Project"
      ],
      "metadata": {
        "id": "hAuj59dZHGzv"
      }
    },
    {
      "cell_type": "code",
      "source": [
        "!git clone https://github.com/mallickhiba/Image-Denoising-with-Parallel-Distributed-Non-Local-Means.git"
      ],
      "metadata": {
        "colab": {
          "base_uri": "https://localhost:8080/"
        },
        "id": "64jbFTWwHF7k",
        "outputId": "e5606a63-a4a2-44c5-a031-e7c2def80611"
      },
      "execution_count": 6,
      "outputs": [
        {
          "output_type": "stream",
          "name": "stdout",
          "text": [
            "Cloning into 'Image-Denoising-with-Parallel-Distributed-Non-Local-Means'...\n",
            "remote: Enumerating objects: 172, done.\u001b[K\n",
            "remote: Counting objects: 100% (172/172), done.\u001b[K\n",
            "remote: Compressing objects: 100% (104/104), done.\u001b[K\n",
            "remote: Total 172 (delta 67), reused 171 (delta 66), pack-reused 0\u001b[K\n",
            "Receiving objects: 100% (172/172), 3.43 MiB | 24.37 MiB/s, done.\n",
            "Resolving deltas: 100% (67/67), done.\n"
          ]
        }
      ]
    },
    {
      "cell_type": "code",
      "source": [
        "# prompt: how do i move files from a folder in google colab into another\n",
        "!cp -r /content/Image-Denoising-with-Parallel-Distributed-Non-Local-Means/NLM_CUDA/* /content/"
      ],
      "metadata": {
        "id": "scvhFevw7oFz"
      },
      "execution_count": 7,
      "outputs": []
    },
    {
      "cell_type": "code",
      "source": [
        "mkdir -p data/out"
      ],
      "metadata": {
        "id": "ju5V5xVH7aO2"
      },
      "execution_count": 8,
      "outputs": []
    },
    {
      "cell_type": "code",
      "source": [
        "mkdir build"
      ],
      "metadata": {
        "id": "5UBNz4kJ90yl"
      },
      "execution_count": 9,
      "outputs": []
    },
    {
      "cell_type": "code",
      "source": [
        "!nvcc -o build/main -I./include /content/src/main.cu -O3"
      ],
      "metadata": {
        "id": "tMRjfCTE7h7g"
      },
      "execution_count": 18,
      "outputs": []
    },
    {
      "cell_type": "code",
      "source": [
        "#./build/main $(imageNum) $(patchSize) $(filterSigma) $(patchSigma) $(useGpu) $(useSharedMem)\n",
        "#seq\n",
        "!./build/main 0 7 0.06 0.8 !useGpu !useSharedMem"
      ],
      "metadata": {
        "id": "HnNWR1F9GmCs",
        "colab": {
          "base_uri": "https://localhost:8080/"
        },
        "outputId": "89b39d7c-2dc0-4133-e124-8cd179cb480a"
      },
      "execution_count": 19,
      "outputs": [
        {
          "output_type": "stream",
          "name": "stdout",
          "text": [
            "\n",
            "Image: House\n",
            "\n",
            "Image read\n",
            "\n",
            "CPU filtering time: 3916.15ms\n",
            "\n",
            "Image filtered: \n",
            "-Patch size 7\n",
            "-Patch sigma 0.8\n",
            "-Filter Sigma 0.06\n",
            "\n",
            "Residual calculated\n",
            "\n",
            "Filtered image written\n",
            "\n",
            "Residual written\n",
            "\n",
            "\n"
          ]
        }
      ]
    },
    {
      "cell_type": "code",
      "source": [
        "#./build/main $(imageNum) $(patchSize) $(filterSigma) $(patchSigma) $(useGpu) $(useSharedMem)\n",
        "!./build/main 1 7 0.06 0.8 useGpu !useSharedMem"
      ],
      "metadata": {
        "id": "YxZeBZQOFFxI",
        "colab": {
          "base_uri": "https://localhost:8080/"
        },
        "outputId": "5c6b4132-a096-4cdb-90ce-81306e8e287b"
      },
      "execution_count": 12,
      "outputs": [
        {
          "output_type": "stream",
          "name": "stdout",
          "text": [
            "\n",
            "Image: Flower\n",
            "\n",
            "Image read\n",
            "^C\n"
          ]
        }
      ]
    },
    {
      "cell_type": "code",
      "source": [
        "#./build/main $(imageNum) $(patchSize) $(filterSigma) $(patchSigma) $(useGpu) $(useSharedMem)\n",
        "!./build/main 2 7 0.06 0.8 useGpu useSharedMem"
      ],
      "metadata": {
        "id": "n4__giCpGhHf",
        "colab": {
          "base_uri": "https://localhost:8080/"
        },
        "outputId": "ad61055e-66e1-47eb-b9a3-b18af3de158d"
      },
      "execution_count": 13,
      "outputs": [
        {
          "output_type": "stream",
          "name": "stdout",
          "text": [
            "\n",
            "Image: Lena\n",
            "\n",
            "Image read\n",
            "^C\n"
          ]
        }
      ]
    },
    {
      "cell_type": "markdown",
      "source": [
        "## Showing output"
      ],
      "metadata": {
        "id": "zzxVilX0CYda"
      }
    },
    {
      "cell_type": "code",
      "source": [
        "import numpy as np\n",
        "import matplotlib.pyplot as plt\n",
        "\n",
        "# Read the grayscale pixel values from the text file\n",
        "# Open the file for reading\n",
        "with open('/content/residual.txt', 'r') as f:\n",
        "    # Read the file line by line\n",
        "    pixel_values = []\n",
        "    for line in f:\n",
        "        # Split the line into a list of values using commas\n",
        "        values = line.split(' ')\n",
        "        # Convert each value to a float and add it to the list\n",
        "        for value in values:\n",
        "            pixel_values.append(float(value))\n",
        "\n",
        "# Create a 2D array from the pixel values\n",
        "image_array = np.array(pixel_values).reshape((64, 64))\n",
        "\n",
        "# Display the image using matplotlib\n",
        "plt.imshow(image_array, cmap='gray')\n",
        "plt.axis('off')\n",
        "plt.show()\n"
      ],
      "metadata": {
        "colab": {
          "base_uri": "https://localhost:8080/",
          "height": 211
        },
        "id": "X7CcWyqaCsjT",
        "outputId": "e0de252d-677d-444c-8d91-c9f5daa28ae7"
      },
      "execution_count": 23,
      "outputs": [
        {
          "output_type": "error",
          "ename": "ValueError",
          "evalue": "could not convert string to float: '\\n'",
          "traceback": [
            "\u001b[0;31m---------------------------------------------------------------------------\u001b[0m",
            "\u001b[0;31mValueError\u001b[0m                                Traceback (most recent call last)",
            "\u001b[0;32m<ipython-input-23-243892a5159e>\u001b[0m in \u001b[0;36m<cell line: 6>\u001b[0;34m()\u001b[0m\n\u001b[1;32m     12\u001b[0m         \u001b[0;31m# Convert each value to a float and add it to the list\u001b[0m\u001b[0;34m\u001b[0m\u001b[0;34m\u001b[0m\u001b[0m\n\u001b[1;32m     13\u001b[0m         \u001b[0;32mfor\u001b[0m \u001b[0mvalue\u001b[0m \u001b[0;32min\u001b[0m \u001b[0mvalues\u001b[0m\u001b[0;34m:\u001b[0m\u001b[0;34m\u001b[0m\u001b[0;34m\u001b[0m\u001b[0m\n\u001b[0;32m---> 14\u001b[0;31m             \u001b[0mpixel_values\u001b[0m\u001b[0;34m.\u001b[0m\u001b[0mappend\u001b[0m\u001b[0;34m(\u001b[0m\u001b[0mfloat\u001b[0m\u001b[0;34m(\u001b[0m\u001b[0mvalue\u001b[0m\u001b[0;34m)\u001b[0m\u001b[0;34m)\u001b[0m\u001b[0;34m\u001b[0m\u001b[0;34m\u001b[0m\u001b[0m\n\u001b[0m\u001b[1;32m     15\u001b[0m \u001b[0;34m\u001b[0m\u001b[0m\n\u001b[1;32m     16\u001b[0m \u001b[0;31m# Create a 2D array from the pixel values\u001b[0m\u001b[0;34m\u001b[0m\u001b[0;34m\u001b[0m\u001b[0m\n",
            "\u001b[0;31mValueError\u001b[0m: could not convert string to float: '\\n'"
          ]
        }
      ]
    },
    {
      "cell_type": "code",
      "source": [
        "# prompt: given th path to a txt file with greyscale pxiel values for an image like this 0.430538 0.384078 . use matplotlib to visualise and display the image\n",
        "\n",
        "import numpy as np\n",
        "import matplotlib.pyplot as plt\n",
        "\n",
        "# Read the grayscale pixel values from the text file\n",
        "# Open the file for reading\n",
        "with open('/content/data/out/f', 'r') as f:\n",
        "  # Read the file line by line\n",
        "  pixel_values = []\n",
        "  for line in f:\n",
        "    # Split the line into a list of values\n",
        "    values = line.split()\n",
        "    # Convert each value to a float and add it to the list\n",
        "    for value in values:\n",
        "      pixel_values.append(float(value))\n",
        "\n",
        "# Create a 2D array from the pixel values\n",
        "image_array = np.array(pixel_values).reshape((64, 64))\n",
        "\n",
        "# Display the image using matplotlib\n",
        "plt.imshow(image_array, cmap='gray')\n",
        "plt.axis('off')\n",
        "plt.show()"
      ],
      "metadata": {
        "id": "xyf3XH_sa5Q7"
      },
      "execution_count": null,
      "outputs": []
    },
    {
      "cell_type": "code",
      "source": [
        "# prompt: given th path to a txt file with greyscale pxiel values for an image like this 0.430538 0.384078 . use matplotlib to visualise and display the image\n",
        "\n",
        "import numpy as np\n",
        "import matplotlib.pyplot as plt\n",
        "\n",
        "# Read the grayscale pixel values from the text file\n",
        "# Open the file for reading\n",
        "with open('/content/data/out/residual_5_0.060000_0.800000.txt', 'r') as f:\n",
        "  # Read the file line by line\n",
        "  pixel_values = []\n",
        "  for line in f:\n",
        "    # Split the line into a list of values\n",
        "    values = line.split()\n",
        "    # Convert each value to a float and add it to the list\n",
        "    for value in values:\n",
        "      pixel_values.append(float(value))\n",
        "\n",
        "# Create a 2D array from the pixel values\n",
        "image_array = np.array(pixel_values).reshape((64, 64))\n",
        "\n",
        "# Display the image using matplotlib\n",
        "plt.imshow(image_array, cmap='gray')\n",
        "plt.axis('off')\n",
        "plt.show()"
      ],
      "metadata": {
        "id": "CLiQ8-ZtfiKS"
      },
      "execution_count": null,
      "outputs": []
    },
    {
      "cell_type": "code",
      "source": [
        "import cv2\n",
        "import numpy as np\n",
        "\n",
        "def add_gaussian_noise(image, mean=0, std_dev=25):\n",
        "    \"\"\"\n",
        "    Add Gaussian noise to the image.\n",
        "\n",
        "    Parameters:\n",
        "        image (numpy.ndarray): Input image.\n",
        "        mean (float): Mean of the Gaussian distribution.\n",
        "        std_dev (float): Standard deviation of the Gaussian distribution.\n",
        "\n",
        "    Returns:\n",
        "        numpy.ndarray: Noisy image.\n",
        "    \"\"\"\n",
        "    noise = np.random.normal(mean, std_dev, image.shape).astype(np.uint8)\n",
        "    noisy_image = cv2.add(image, noise)\n",
        "    return noisy_image\n",
        "\n",
        "def add_salt_and_pepper_noise(image, amount=0.02):\n",
        "    \"\"\"\n",
        "    Add salt-and-pepper noise to the image.\n",
        "\n",
        "    Parameters:\n",
        "        image (numpy.ndarray): Input image.\n",
        "        amount (float): Probability of the noise.\n",
        "\n",
        "    Returns:\n",
        "        numpy.ndarray: Noisy image.\n",
        "    \"\"\"\n",
        "    noisy_image = np.copy(image)\n",
        "    num_salt = np.ceil(amount * image.size * 0.5)\n",
        "    coords = [np.random.randint(0, i - 1, int(num_salt))\n",
        "          for i in image.shape]\n",
        "    noisy_image[coords[0], coords[1], :] = 255\n",
        "\n",
        "    num_pepper = np.ceil(amount* image.size * 0.5)\n",
        "    coords = [np.random.randint(0, i - 1, int(num_pepper))\n",
        "          for i in image.shape]\n",
        "    noisy_image[coords[0], coords[1], :] = 0\n",
        "    return noisy_image\n",
        "\n",
        "# Load an image\n",
        "image_path = 'input_image.jpg'\n",
        "image = cv2.imread(image_path)\n",
        "\n",
        "# Add Gaussian noise\n",
        "noisy_image_gaussian = add_gaussian_noise(image)\n",
        "\n",
        "# Add salt-and-pepper noise\n",
        "noisy_image_salt_pepper = add_salt_and_pepper_noise(image)\n",
        "\n",
        "# Display the original and noisy images\n",
        "cv2.imshow('Original Image', image)\n",
        "cv2.imshow('Noisy Image (Gaussian)', noisy_image_gaussian)\n",
        "cv2.imshow('Noisy Image (Salt-and-Pepper)', noisy_image_salt_pepper)\n",
        "cv2.waitKey(0)\n",
        "cv2.destroyAllWindows()\n"
      ],
      "metadata": {
        "id": "mXpA3KU_R6Oh"
      },
      "execution_count": null,
      "outputs": []
    },
    {
      "cell_type": "code",
      "source": [
        "from PIL import Image, ImageDraw, ImageFont\n",
        "import numpy as np\n",
        "import matplotlib.pyplot as plt\n",
        "\n",
        "# Function to add noise to an image\n",
        "def add_noise(image, noise_level=0.1):\n",
        "    \"\"\"\n",
        "    Add random noise to the image.\n",
        "\n",
        "    Parameters:\n",
        "    image (PIL.Image): The input image.\n",
        "    noise_level (float): Noise level between 0 and 1.\n",
        "\n",
        "    Returns:\n",
        "    PIL.Image: Image with added noise.\n",
        "    \"\"\"\n",
        "    np.random.seed(42)  # Set seed for reproducibility\n",
        "    img_array = np.array(image)  # Convert image to numpy array\n",
        "\n",
        "    # Generate random noise\n",
        "    noise = np.random.normal(loc=0, scale=255*noise_level, size=img_array.shape).astype(np.uint8)\n",
        "\n",
        "    # Add noise to the image\n",
        "    noisy_image = np.clip(img_array + noise, 0, 255).astype(np.uint8)\n",
        "\n",
        "    return Image.fromarray(noisy_image)\n",
        "\n",
        "# Load an image (replace 'image_path.jpg' with your image path)\n",
        "image_path = \"/content/Screenshot 2024-04-14 015739.png\"  # Modify this path\n",
        "image = Image.open(image_path)\n",
        "\n",
        "# Display original image\n",
        "plt.figure(figsize=(8, 8))\n",
        "plt.subplot(1, 2, 1)\n",
        "plt.imshow(image)\n",
        "plt.title(\"Original Image\")\n",
        "plt.axis(\"off\")\n",
        "\n",
        "# Add noise to the image\n",
        "noisy_image = add_noise(image)\n",
        "\n",
        "# Display image with added noise\n",
        "plt.subplot(1, 2, 2)\n",
        "plt.imshow(noisy_image)\n",
        "plt.title(\"Image with Added Noise\")\n",
        "plt.axis(\"off\")\n",
        "\n",
        "plt.show()\n"
      ],
      "metadata": {
        "id": "V9gNPX_5SKiF"
      },
      "execution_count": null,
      "outputs": []
    },
    {
      "cell_type": "code",
      "source": [
        "# prompt: write code to take an image from content and resize it and save it in content with a new name\n",
        "\n",
        "from PIL import Image\n",
        "\n",
        "# Open the image from content\n",
        "image = Image.open('/content/image.jpg')\n",
        "\n",
        "# Resize the image\n",
        "resized_image = image.resize((224, 224))\n",
        "\n",
        "# Save the resized image\n",
        "resized_image.save('/content/resized_image.jpg')\n"
      ],
      "metadata": {
        "id": "hxYnmvpySn0m"
      },
      "execution_count": null,
      "outputs": []
    },
    {
      "cell_type": "code",
      "source": [
        "import numpy as np\n",
        "import matplotlib.pyplot as plt\n",
        "\n",
        "# Read the grayscale pixel values from the text file\n",
        "# Open the file for reading\n",
        "with open('/content/data/images/input.jpg', 'r') as f:\n",
        "    # Read the file line by line\n",
        "    pixel_values = []\n",
        "    for line in f:\n",
        "        # Split the line into a list of values using commas\n",
        "        values = line.split(',')\n",
        "        # Convert each value to a float and add it to the list\n",
        "        for value in values:\n",
        "            pixel_values.append(float(value))\n",
        "\n",
        "# Create a 2D array from the pixel values\n",
        "image_array = np.array(pixel_values).reshape((64, 64))\n",
        "\n",
        "# Display the image using matplotlib\n",
        "plt.imshow(image_array, cmap='gray')\n",
        "plt.axis('off')\n",
        "plt.show()\n"
      ],
      "metadata": {
        "id": "cN0rf1dGxMOU"
      },
      "execution_count": null,
      "outputs": []
    },
    {
      "cell_type": "code",
      "source": [
        "# prompt: USE AN JPG IMAGE FROM CONTENT AND TURN IT INTO A NP.ARRAY OF PIXEL VALUES AND SAVE IT AS A TXT FILE TO A FOLDER CALLED IN IN THE CONTENT.\n",
        "\n",
        "# Import necessary libraries\n",
        "import numpy as np\n",
        "from PIL import Image\n",
        "\n",
        "# Open the image from content\n",
        "image = Image.open('/content/data/images/input3.jpg')\n",
        "\n",
        "# Convert the image to grayscale\n",
        "image = image.convert('L')\n",
        "\n",
        "# Resize the image\n",
        "resized_image = image.resize((256, 256))\n",
        "\n",
        "# Convert the image to a numpy array\n",
        "image_array = np.array(resized_image)\n",
        "\n",
        "# Save the image array to a text file\n",
        "with open('/content/data/in/input3.txt', 'w') as f:\n",
        "    for row in image_array:\n",
        "        for pixel in row:\n",
        "            f.write(str(pixel) + ',')\n",
        "        f.write('\\n')\n"
      ],
      "metadata": {
        "id": "CIh9jjPjxQto"
      },
      "execution_count": null,
      "outputs": []
    }
  ]
}